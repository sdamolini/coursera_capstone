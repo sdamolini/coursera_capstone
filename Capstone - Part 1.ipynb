{
 "cells": [
  {
   "cell_type": "markdown",
   "metadata": {},
   "source": [
    "# Coursera Capstone: Opening a High-End Bakery in Cambridge/ Somerville\n"
   ]
  },
  {
   "cell_type": "markdown",
   "metadata": {},
   "source": [
    "## Introduction\n"
   ]
  },
  {
   "cell_type": "markdown",
   "metadata": {},
   "source": [
    "### Project Goal \n",
    "One of my dream business opportunity would be to open a bakery. I live in the Cambridge/ Somerville area (right across the river from Boston, Massachusetts) and these neighborhoods have experiences a very steep increase in attractivity in the last ten years. While it was nearly impossible to find quality bread ten years ago, many high-end bakeries have opened since and the competition is now high. \n",
    "\n",
    "The purpose of this project is to find the perfect location for opening a bakery. It will have to be near an area with some already existing bakeries, but not too close to avoid direct competition. The bakery will also have to be within reasonable distance of the subway system (the MBTA \"T\"). A map will be used to summarize and display the results.\n",
    "\n",
    "### Strategy\n",
    "- Use the Foursquare API to locate bakeries in the area of interest. Filter the data to remove low rated business or franchises that are not \"high-end\".\n",
    "- Use the geocoder to fetch the location of the subway stations.\n",
    "- Devide the area of interest in sqaures of 200ft by 200ft.\n",
    "- For each square, compute a score ranging from 0 to 100 that represents how relevant the location is to open a new bakery. The formula of the score is to be found via trial and error but it will be function of the distance to the subway stations and to other bakeries. \n",
    "- Display the results on a map.\n",
    "- Select the 3 best locations."
   ]
  },
  {
   "cell_type": "code",
   "execution_count": null,
   "metadata": {},
   "outputs": [],
   "source": []
  },
  {
   "cell_type": "code",
   "execution_count": null,
   "metadata": {},
   "outputs": [],
   "source": []
  },
  {
   "cell_type": "markdown",
   "metadata": {},
   "source": [
    "## Imports"
   ]
  },
  {
   "cell_type": "code",
   "execution_count": 1,
   "metadata": {},
   "outputs": [],
   "source": [
    "import numpy as np\n",
    "import pandas as pd\n",
    "import requests\n",
    "import re\n",
    "from bs4 import BeautifulSoup\n",
    "#!pip install geocoder\n",
    "import geocoder\n",
    "#!pip install geopy\n",
    "import geopy\n",
    "import folium"
   ]
  },
  {
   "cell_type": "code",
   "execution_count": null,
   "metadata": {},
   "outputs": [],
   "source": []
  }
 ],
 "metadata": {
  "kernelspec": {
   "display_name": "Python 3",
   "language": "python",
   "name": "python3"
  },
  "language_info": {
   "codemirror_mode": {
    "name": "ipython",
    "version": 3
   },
   "file_extension": ".py",
   "mimetype": "text/x-python",
   "name": "python",
   "nbconvert_exporter": "python",
   "pygments_lexer": "ipython3",
   "version": "3.7.1"
  }
 },
 "nbformat": 4,
 "nbformat_minor": 2
}
